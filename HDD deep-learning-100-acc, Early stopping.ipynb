{
 "cells": [
  {
   "cell_type": "markdown",
   "id": "c4ba6447",
   "metadata": {
    "papermill": {
     "duration": 0.010447,
     "end_time": "2022-04-26T02:22:31.252525",
     "exception": false,
     "start_time": "2022-04-26T02:22:31.242078",
     "status": "completed"
    },
    "tags": []
   },
   "source": [
    "This is a quick and simple notebook using a deep learning model with keras that predicts heart disease.\n",
    "\n",
    "Side Note: This notebook does not include any data cleaning or advanced visualization, and is just a quick overview of models with keras."
   ]
  },
  {
   "cell_type": "code",
   "execution_count": 1,
   "id": "3ea7b89d",
   "metadata": {
    "_cell_guid": "b1076dfc-b9ad-4769-8c92-a6c4dae69d19",
    "_uuid": "8f2839f25d086af736a60e9eeb907d3b93b6e0e5",
    "execution": {
     "iopub.execute_input": "2022-04-26T02:22:31.273766Z",
     "iopub.status.busy": "2022-04-26T02:22:31.273083Z",
     "iopub.status.idle": "2022-04-26T02:22:39.806772Z",
     "shell.execute_reply": "2022-04-26T02:22:39.805757Z"
    },
    "papermill": {
     "duration": 8.547735,
     "end_time": "2022-04-26T02:22:39.809657",
     "exception": false,
     "start_time": "2022-04-26T02:22:31.261922",
     "status": "completed"
    },
    "tags": []
   },
   "outputs": [],
   "source": [
    "# Import Libraries\n",
    "import pandas as pd\n",
    "import numpy as np\n",
    "import matplotlib.pyplot as plt\n",
    "import seaborn as sns\n",
    "from tensorflow import keras\n",
    "from tensorflow.keras import layers\n",
    "from sklearn.model_selection import train_test_split"
   ]
  },
  {
   "cell_type": "code",
   "execution_count": 2,
   "id": "29430732",
   "metadata": {
    "execution": {
     "iopub.execute_input": "2022-04-26T02:22:39.831058Z",
     "iopub.status.busy": "2022-04-26T02:22:39.830670Z",
     "iopub.status.idle": "2022-04-26T02:22:39.862021Z",
     "shell.execute_reply": "2022-04-26T02:22:39.860535Z"
    },
    "papermill": {
     "duration": 0.045881,
     "end_time": "2022-04-26T02:22:39.864777",
     "exception": false,
     "start_time": "2022-04-26T02:22:39.818896",
     "status": "completed"
    },
    "tags": []
   },
   "outputs": [],
   "source": [
    "# Load in the data\n",
    "data = pd.read_csv('../input/heart-disease-dataset/heart.csv')"
   ]
  },
  {
   "cell_type": "code",
   "execution_count": 3,
   "id": "81a49b04",
   "metadata": {
    "execution": {
     "iopub.execute_input": "2022-04-26T02:22:39.892627Z",
     "iopub.status.busy": "2022-04-26T02:22:39.891307Z",
     "iopub.status.idle": "2022-04-26T02:22:39.932417Z",
     "shell.execute_reply": "2022-04-26T02:22:39.931439Z"
    },
    "papermill": {
     "duration": 0.061235,
     "end_time": "2022-04-26T02:22:39.937403",
     "exception": false,
     "start_time": "2022-04-26T02:22:39.876168",
     "status": "completed"
    },
    "tags": []
   },
   "outputs": [
    {
     "data": {
      "text/html": [
       "<div>\n",
       "<style scoped>\n",
       "    .dataframe tbody tr th:only-of-type {\n",
       "        vertical-align: middle;\n",
       "    }\n",
       "\n",
       "    .dataframe tbody tr th {\n",
       "        vertical-align: top;\n",
       "    }\n",
       "\n",
       "    .dataframe thead th {\n",
       "        text-align: right;\n",
       "    }\n",
       "</style>\n",
       "<table border=\"1\" class=\"dataframe\">\n",
       "  <thead>\n",
       "    <tr style=\"text-align: right;\">\n",
       "      <th></th>\n",
       "      <th>age</th>\n",
       "      <th>sex</th>\n",
       "      <th>cp</th>\n",
       "      <th>trestbps</th>\n",
       "      <th>chol</th>\n",
       "      <th>fbs</th>\n",
       "      <th>restecg</th>\n",
       "      <th>thalach</th>\n",
       "      <th>exang</th>\n",
       "      <th>oldpeak</th>\n",
       "      <th>slope</th>\n",
       "      <th>ca</th>\n",
       "      <th>thal</th>\n",
       "      <th>target</th>\n",
       "    </tr>\n",
       "  </thead>\n",
       "  <tbody>\n",
       "    <tr>\n",
       "      <th>0</th>\n",
       "      <td>52</td>\n",
       "      <td>1</td>\n",
       "      <td>0</td>\n",
       "      <td>125</td>\n",
       "      <td>212</td>\n",
       "      <td>0</td>\n",
       "      <td>1</td>\n",
       "      <td>168</td>\n",
       "      <td>0</td>\n",
       "      <td>1.0</td>\n",
       "      <td>2</td>\n",
       "      <td>2</td>\n",
       "      <td>3</td>\n",
       "      <td>0</td>\n",
       "    </tr>\n",
       "    <tr>\n",
       "      <th>1</th>\n",
       "      <td>53</td>\n",
       "      <td>1</td>\n",
       "      <td>0</td>\n",
       "      <td>140</td>\n",
       "      <td>203</td>\n",
       "      <td>1</td>\n",
       "      <td>0</td>\n",
       "      <td>155</td>\n",
       "      <td>1</td>\n",
       "      <td>3.1</td>\n",
       "      <td>0</td>\n",
       "      <td>0</td>\n",
       "      <td>3</td>\n",
       "      <td>0</td>\n",
       "    </tr>\n",
       "    <tr>\n",
       "      <th>2</th>\n",
       "      <td>70</td>\n",
       "      <td>1</td>\n",
       "      <td>0</td>\n",
       "      <td>145</td>\n",
       "      <td>174</td>\n",
       "      <td>0</td>\n",
       "      <td>1</td>\n",
       "      <td>125</td>\n",
       "      <td>1</td>\n",
       "      <td>2.6</td>\n",
       "      <td>0</td>\n",
       "      <td>0</td>\n",
       "      <td>3</td>\n",
       "      <td>0</td>\n",
       "    </tr>\n",
       "    <tr>\n",
       "      <th>3</th>\n",
       "      <td>61</td>\n",
       "      <td>1</td>\n",
       "      <td>0</td>\n",
       "      <td>148</td>\n",
       "      <td>203</td>\n",
       "      <td>0</td>\n",
       "      <td>1</td>\n",
       "      <td>161</td>\n",
       "      <td>0</td>\n",
       "      <td>0.0</td>\n",
       "      <td>2</td>\n",
       "      <td>1</td>\n",
       "      <td>3</td>\n",
       "      <td>0</td>\n",
       "    </tr>\n",
       "    <tr>\n",
       "      <th>4</th>\n",
       "      <td>62</td>\n",
       "      <td>0</td>\n",
       "      <td>0</td>\n",
       "      <td>138</td>\n",
       "      <td>294</td>\n",
       "      <td>1</td>\n",
       "      <td>1</td>\n",
       "      <td>106</td>\n",
       "      <td>0</td>\n",
       "      <td>1.9</td>\n",
       "      <td>1</td>\n",
       "      <td>3</td>\n",
       "      <td>2</td>\n",
       "      <td>0</td>\n",
       "    </tr>\n",
       "    <tr>\n",
       "      <th>...</th>\n",
       "      <td>...</td>\n",
       "      <td>...</td>\n",
       "      <td>...</td>\n",
       "      <td>...</td>\n",
       "      <td>...</td>\n",
       "      <td>...</td>\n",
       "      <td>...</td>\n",
       "      <td>...</td>\n",
       "      <td>...</td>\n",
       "      <td>...</td>\n",
       "      <td>...</td>\n",
       "      <td>...</td>\n",
       "      <td>...</td>\n",
       "      <td>...</td>\n",
       "    </tr>\n",
       "    <tr>\n",
       "      <th>1020</th>\n",
       "      <td>59</td>\n",
       "      <td>1</td>\n",
       "      <td>1</td>\n",
       "      <td>140</td>\n",
       "      <td>221</td>\n",
       "      <td>0</td>\n",
       "      <td>1</td>\n",
       "      <td>164</td>\n",
       "      <td>1</td>\n",
       "      <td>0.0</td>\n",
       "      <td>2</td>\n",
       "      <td>0</td>\n",
       "      <td>2</td>\n",
       "      <td>1</td>\n",
       "    </tr>\n",
       "    <tr>\n",
       "      <th>1021</th>\n",
       "      <td>60</td>\n",
       "      <td>1</td>\n",
       "      <td>0</td>\n",
       "      <td>125</td>\n",
       "      <td>258</td>\n",
       "      <td>0</td>\n",
       "      <td>0</td>\n",
       "      <td>141</td>\n",
       "      <td>1</td>\n",
       "      <td>2.8</td>\n",
       "      <td>1</td>\n",
       "      <td>1</td>\n",
       "      <td>3</td>\n",
       "      <td>0</td>\n",
       "    </tr>\n",
       "    <tr>\n",
       "      <th>1022</th>\n",
       "      <td>47</td>\n",
       "      <td>1</td>\n",
       "      <td>0</td>\n",
       "      <td>110</td>\n",
       "      <td>275</td>\n",
       "      <td>0</td>\n",
       "      <td>0</td>\n",
       "      <td>118</td>\n",
       "      <td>1</td>\n",
       "      <td>1.0</td>\n",
       "      <td>1</td>\n",
       "      <td>1</td>\n",
       "      <td>2</td>\n",
       "      <td>0</td>\n",
       "    </tr>\n",
       "    <tr>\n",
       "      <th>1023</th>\n",
       "      <td>50</td>\n",
       "      <td>0</td>\n",
       "      <td>0</td>\n",
       "      <td>110</td>\n",
       "      <td>254</td>\n",
       "      <td>0</td>\n",
       "      <td>0</td>\n",
       "      <td>159</td>\n",
       "      <td>0</td>\n",
       "      <td>0.0</td>\n",
       "      <td>2</td>\n",
       "      <td>0</td>\n",
       "      <td>2</td>\n",
       "      <td>1</td>\n",
       "    </tr>\n",
       "    <tr>\n",
       "      <th>1024</th>\n",
       "      <td>54</td>\n",
       "      <td>1</td>\n",
       "      <td>0</td>\n",
       "      <td>120</td>\n",
       "      <td>188</td>\n",
       "      <td>0</td>\n",
       "      <td>1</td>\n",
       "      <td>113</td>\n",
       "      <td>0</td>\n",
       "      <td>1.4</td>\n",
       "      <td>1</td>\n",
       "      <td>1</td>\n",
       "      <td>3</td>\n",
       "      <td>0</td>\n",
       "    </tr>\n",
       "  </tbody>\n",
       "</table>\n",
       "<p>1025 rows × 14 columns</p>\n",
       "</div>"
      ],
      "text/plain": [
       "      age  sex  cp  trestbps  chol  fbs  restecg  thalach  exang  oldpeak  \\\n",
       "0      52    1   0       125   212    0        1      168      0      1.0   \n",
       "1      53    1   0       140   203    1        0      155      1      3.1   \n",
       "2      70    1   0       145   174    0        1      125      1      2.6   \n",
       "3      61    1   0       148   203    0        1      161      0      0.0   \n",
       "4      62    0   0       138   294    1        1      106      0      1.9   \n",
       "...   ...  ...  ..       ...   ...  ...      ...      ...    ...      ...   \n",
       "1020   59    1   1       140   221    0        1      164      1      0.0   \n",
       "1021   60    1   0       125   258    0        0      141      1      2.8   \n",
       "1022   47    1   0       110   275    0        0      118      1      1.0   \n",
       "1023   50    0   0       110   254    0        0      159      0      0.0   \n",
       "1024   54    1   0       120   188    0        1      113      0      1.4   \n",
       "\n",
       "      slope  ca  thal  target  \n",
       "0         2   2     3       0  \n",
       "1         0   0     3       0  \n",
       "2         0   0     3       0  \n",
       "3         2   1     3       0  \n",
       "4         1   3     2       0  \n",
       "...     ...  ..   ...     ...  \n",
       "1020      2   0     2       1  \n",
       "1021      1   1     3       0  \n",
       "1022      1   1     2       0  \n",
       "1023      2   0     2       1  \n",
       "1024      1   1     3       0  \n",
       "\n",
       "[1025 rows x 14 columns]"
      ]
     },
     "execution_count": 3,
     "metadata": {},
     "output_type": "execute_result"
    }
   ],
   "source": [
    "# Examine the data\n",
    "data"
   ]
  },
  {
   "cell_type": "code",
   "execution_count": 4,
   "id": "5598adeb",
   "metadata": {
    "execution": {
     "iopub.execute_input": "2022-04-26T02:22:39.962115Z",
     "iopub.status.busy": "2022-04-26T02:22:39.961459Z",
     "iopub.status.idle": "2022-04-26T02:22:39.975207Z",
     "shell.execute_reply": "2022-04-26T02:22:39.974146Z"
    },
    "papermill": {
     "duration": 0.028417,
     "end_time": "2022-04-26T02:22:39.978002",
     "exception": false,
     "start_time": "2022-04-26T02:22:39.949585",
     "status": "completed"
    },
    "tags": []
   },
   "outputs": [],
   "source": [
    "# Split the data into training and testing\n",
    "X = data.drop(columns=['target'])\n",
    "y = data['target']\n",
    "X_train, X_test, y_train, y_test = train_test_split(X, y, test_size=0.2)"
   ]
  },
  {
   "cell_type": "code",
   "execution_count": 5,
   "id": "26b0abb1",
   "metadata": {
    "execution": {
     "iopub.execute_input": "2022-04-26T02:22:40.001240Z",
     "iopub.status.busy": "2022-04-26T02:22:40.000821Z",
     "iopub.status.idle": "2022-04-26T02:22:40.007597Z",
     "shell.execute_reply": "2022-04-26T02:22:40.006908Z"
    },
    "papermill": {
     "duration": 0.020407,
     "end_time": "2022-04-26T02:22:40.009377",
     "exception": false,
     "start_time": "2022-04-26T02:22:39.988970",
     "status": "completed"
    },
    "tags": []
   },
   "outputs": [],
   "source": [
    "# Create a custom early stoppinng callback that stops training the model after the accuracy is 100%\n",
    "# The custom callback inherits from tensorflow.keras.callbacks.Callback\n",
    "class MyThresholdCallback(keras.callbacks.Callback):\n",
    "    def __init__(self, threshold):\n",
    "        super(MyThresholdCallback, self).__init__()\n",
    "        self.threshold = threshold\n",
    "\n",
    "    def on_epoch_end(self, epoch, logs=None): \n",
    "        accuracy = logs[\"val_binary_accuracy\"]\n",
    "        if accuracy >= self.threshold:\n",
    "            self.model.stop_training = True\n",
    "            \n",
    "            \n",
    "early_stopping = MyThresholdCallback(threshold=1.0)"
   ]
  },
  {
   "cell_type": "code",
   "execution_count": 6,
   "id": "fd6d00d9",
   "metadata": {
    "execution": {
     "iopub.execute_input": "2022-04-26T02:22:40.032841Z",
     "iopub.status.busy": "2022-04-26T02:22:40.032218Z",
     "iopub.status.idle": "2022-04-26T02:22:48.499415Z",
     "shell.execute_reply": "2022-04-26T02:22:48.497924Z"
    },
    "papermill": {
     "duration": 8.482743,
     "end_time": "2022-04-26T02:22:48.502543",
     "exception": false,
     "start_time": "2022-04-26T02:22:40.019800",
     "status": "completed"
    },
    "tags": []
   },
   "outputs": [
    {
     "name": "stderr",
     "output_type": "stream",
     "text": [
      "2022-04-26 02:22:40.088733: I tensorflow/core/common_runtime/process_util.cc:146] Creating new thread pool with default inter op setting: 2. Tune using inter_op_parallelism_threads for best performance.\n",
      "2022-04-26 02:22:40.240883: I tensorflow/compiler/mlir/mlir_graph_optimization_pass.cc:185] None of the MLIR Optimization Passes are enabled (registered 2)\n"
     ]
    },
    {
     "name": "stdout",
     "output_type": "stream",
     "text": [
      "Epoch 1/30\n",
      "33/33 [==============================] - 2s 21ms/step - loss: 0.4809 - binary_accuracy: 0.8341 - val_loss: 0.6415 - val_binary_accuracy: 0.5805\n",
      "Epoch 2/30\n",
      "33/33 [==============================] - 0s 11ms/step - loss: 0.2021 - binary_accuracy: 0.9207 - val_loss: 0.5526 - val_binary_accuracy: 0.7805\n",
      "Epoch 3/30\n",
      "33/33 [==============================] - 0s 11ms/step - loss: 0.1162 - binary_accuracy: 0.9537 - val_loss: 0.5417 - val_binary_accuracy: 0.6683\n",
      "Epoch 4/30\n",
      "33/33 [==============================] - 0s 11ms/step - loss: 0.1180 - binary_accuracy: 0.9524 - val_loss: 0.4706 - val_binary_accuracy: 0.7707\n",
      "Epoch 5/30\n",
      "33/33 [==============================] - 0s 10ms/step - loss: 0.1515 - binary_accuracy: 0.9476 - val_loss: 0.3640 - val_binary_accuracy: 0.8537\n",
      "Epoch 6/30\n",
      "33/33 [==============================] - 0s 11ms/step - loss: 0.1361 - binary_accuracy: 0.9561 - val_loss: 0.2937 - val_binary_accuracy: 0.8829\n",
      "Epoch 7/30\n",
      "33/33 [==============================] - 0s 11ms/step - loss: 0.0683 - binary_accuracy: 0.9720 - val_loss: 0.2564 - val_binary_accuracy: 0.9073\n",
      "Epoch 8/30\n",
      "33/33 [==============================] - 0s 11ms/step - loss: 0.0502 - binary_accuracy: 0.9841 - val_loss: 0.1768 - val_binary_accuracy: 0.9756\n",
      "Epoch 9/30\n",
      "33/33 [==============================] - 0s 11ms/step - loss: 0.0476 - binary_accuracy: 0.9866 - val_loss: 0.1623 - val_binary_accuracy: 0.9512\n",
      "Epoch 10/30\n",
      "33/33 [==============================] - 0s 11ms/step - loss: 0.1139 - binary_accuracy: 0.9646 - val_loss: 0.0982 - val_binary_accuracy: 0.9707\n",
      "Epoch 11/30\n",
      "33/33 [==============================] - 0s 11ms/step - loss: 0.0558 - binary_accuracy: 0.9768 - val_loss: 0.0925 - val_binary_accuracy: 0.9512\n",
      "Epoch 12/30\n",
      "33/33 [==============================] - 0s 12ms/step - loss: 0.0811 - binary_accuracy: 0.9707 - val_loss: 0.0333 - val_binary_accuracy: 0.9902\n",
      "Epoch 13/30\n",
      "33/33 [==============================] - 0s 11ms/step - loss: 0.0482 - binary_accuracy: 0.9841 - val_loss: 0.0393 - val_binary_accuracy: 0.9854\n",
      "Epoch 14/30\n",
      "33/33 [==============================] - 0s 10ms/step - loss: 0.0750 - binary_accuracy: 0.9683 - val_loss: 0.0405 - val_binary_accuracy: 0.9902\n",
      "Epoch 15/30\n",
      "33/33 [==============================] - 0s 11ms/step - loss: 0.0873 - binary_accuracy: 0.9744 - val_loss: 0.0293 - val_binary_accuracy: 0.9902\n",
      "Epoch 16/30\n",
      "33/33 [==============================] - 0s 11ms/step - loss: 0.0427 - binary_accuracy: 0.9817 - val_loss: 0.0141 - val_binary_accuracy: 0.9951\n",
      "Epoch 17/30\n",
      "33/33 [==============================] - 0s 11ms/step - loss: 0.0237 - binary_accuracy: 0.9902 - val_loss: 0.0066 - val_binary_accuracy: 1.0000\n"
     ]
    }
   ],
   "source": [
    "# Create the model with 4 dense layers (dense layers contain our neurons)\n",
    "# The model uses BatchNormilzation() in order to scale our data in the range: [0, 1]\n",
    "model = keras.Sequential([\n",
    "    layers.BatchNormalization(),\n",
    "    layers.Dense(1024, activation='relu', input_shape=[X.shape[1]]),\n",
    "    layers.BatchNormalization(),\n",
    "    layers.Dense(512, activation='relu'),\n",
    "    layers.BatchNormalization(),\n",
    "    layers.Dense(512, activation='relu'),\n",
    "    layers.Dense(1, activation='sigmoid'),\n",
    "])\n",
    "\n",
    "# Compile the model using adam\n",
    "# Measure our loss with binary_crossentropy\n",
    "# Set metrics to binary_accuracy, which lets us know how accurate the model is\n",
    "# Keep in mind that the accuracy lies on a scale of [0.0, 1.0],\n",
    "# In order to convert this accuracy to percentage, move the decimal point to the right twice (acc*100)\n",
    "model.compile(\n",
    "    optimizer='adam',\n",
    "    loss='binary_crossentropy',\n",
    "    metrics=['binary_accuracy']\n",
    ")\n",
    "\n",
    "# Finally fit the model, training it with X_train and y_train, and validating it with X_test and y_test\n",
    "# Use 25 data points per epoch (the amount of epochs is the amount of times we feed the model data)\n",
    "# Use the custom callback defined earlier that stops the model at 100% accuracy\n",
    "history = model.fit(\n",
    "    X_train, y_train,\n",
    "    validation_data=(X_test, y_test),\n",
    "    batch_size=25,\n",
    "    epochs=30,\n",
    "    callbacks=[early_stopping]\n",
    ")"
   ]
  },
  {
   "cell_type": "code",
   "execution_count": 7,
   "id": "45d70260",
   "metadata": {
    "execution": {
     "iopub.execute_input": "2022-04-26T02:22:48.619350Z",
     "iopub.status.busy": "2022-04-26T02:22:48.619023Z",
     "iopub.status.idle": "2022-04-26T02:22:49.026884Z",
     "shell.execute_reply": "2022-04-26T02:22:49.026020Z"
    },
    "papermill": {
     "duration": 0.469164,
     "end_time": "2022-04-26T02:22:49.028988",
     "exception": false,
     "start_time": "2022-04-26T02:22:48.559824",
     "status": "completed"
    },
    "tags": []
   },
   "outputs": [
    {
     "data": {
      "text/plain": [
       "[<matplotlib.lines.Line2D at 0x7f917cd3bf10>]"
      ]
     },
     "execution_count": 7,
     "metadata": {},
     "output_type": "execute_result"
    },
    {
     "data": {
      "image/png": "[encoded data removed]",
      "text/plain": [
       "<Figure size 1080x360 with 2 Axes>"
      ]
     },
     "metadata": {
      "needs_background": "light"
     },
     "output_type": "display_data"
    }
   ],
   "source": [
    "# Now plot our increase/decrease in percentage and loss\n",
    "# The left graph represents percent, and the right graph represents loss\n",
    "# Keep in mind, we're looking for a high percent and a low loss\n",
    "history_df = pd.DataFrame(history.history)\n",
    "\n",
    "f, (ax1, ax2) = plt.subplots(1, 2)\n",
    "f.figure.set_figheight(5)\n",
    "f.figure.set_figwidth(15)\n",
    "\n",
    "ax1.plot(history_df.index, history_df['binary_accuracy'])\n",
    "ax1.plot(history_df.index, history_df['val_binary_accuracy'])\n",
    "\n",
    "ax2.plot(history_df.index, history_df['loss'])\n",
    "ax2.plot(history_df.index, history_df['val_loss'])"
   ]
  }
 ],
 "metadata": {
  "kernelspec": {
   "display_name": "Python 3",
   "language": "python",
   "name": "python3"
  },
  "language_info": {
   "codemirror_mode": {
    "name": "ipython",
    "version": 3
   },
   "file_extension": ".py",
   "mimetype": "text/x-python",
   "name": "python",
   "nbconvert_exporter": "python",
   "pygments_lexer": "ipython3",
   "version": "3.7.12"
  },
  "papermill": {
   "default_parameters": {},
   "duration": 31.887174,
   "end_time": "2022-04-26T02:22:52.058432",
   "environment_variables": {},
   "exception": null,
   "input_path": "__notebook__.ipynb",
   "output_path": "__notebook__.ipynb",
   "parameters": {},
   "start_time": "2022-04-26T02:22:20.171258",
   "version": "2.3.4"
  }
 },
 "nbformat": 4,
 "nbformat_minor": 5
}
